{
 "cells": [
  {
   "cell_type": "markdown",
   "metadata": {},
   "source": [
    "___\n",
    "<img style=\"float: right; margin: 0px 0px 15px 15px;\" src=\"https://upload.wikimedia.org/wikipedia/commons/0/08/Pareto_Efficient_Frontier_for_the_Markowitz_Portfolio_selection_problem..png\" width=\"300px\" height=\"100px\" />\n",
    "\n",
    "\n",
    "# Proyecto Final\n",
    "\n",
    "En el proyecto final diseñarás un portafolio de inversión utilizando activos (o ETFs) reales de tu preferencia. Utilizarás todas las herramientas vistas a lo largo del curso para este fin, y después, evaluarás qué tan buena hubiera sido tu inversión de haber invertido en este portafolio.\n",
    "\n",
    "El proyecto se realizará en equipos de mínimo dos (2) y máximo tres (3) personas. Ni más, ni menos. Para esto, deberán conformar los equipos en este momento, y designar a un miembro del equipo que me envíe un correo con los nombres de los integrantes.\n",
    "___"
   ]
  },
  {
   "cell_type": "markdown",
   "metadata": {},
   "source": [
    "## 1. Elección de activos \n",
    "\n",
    "Lo primero es elegir los activos que van a utilizar. En este punto tienen tres opciones:\n",
    "\n",
    "1. Si deciden trabajar únicamente con acciones de empresas particulares, deben elegir y listar mínimo 20 activos.\n",
    "\n",
    "2. Si deciden trabajar únicamente con ETFs, deben elegir y listar mínimo 10 ETFs.\n",
    "\n",
    "3. Si deciden trabajar con una combinación de acciones y ETFs, deben elegir y listar por lo menos 5 ETFs y 10 activos.\n",
    "\n",
    "En cualquiera de los tres casos deben explicar detalladamente la elección de cada uno de los activos y/o ETFs que elijan."
   ]
  },
  {
   "cell_type": "markdown",
   "metadata": {},
   "source": [
    "## 2. Selección de portafolios\n",
    "\n",
    "Una vez elegidos los activos y/o ETFs:\n",
    "\n",
    "1. Usando los precios históricos de dichos activos hasta el 2015-12-31 (la fecha inicial es un parámetro que ustedes deberán elegir), diseñarán un portafolio en el que (hipotéticamente) habrían invertido durante todo el 2016. Para esto, deberán suponer un coeficiente de aversión al riesgo.\n",
    "\n",
    "2. Usando los precios históricos de dichos activos hasta el 2016-12-31, diseñarán un portafolio en el que (hipotéticamente) habrían invertido durante todo el 2017.\n",
    "\n",
    "3. Usando los precios históricos de dichos activos hasta el 2017-12-31, diseñarán un portafolio en el que (hipotéticamente) habrían invertido durante todo el 2018.\n",
    "\n",
    "4. Usando los precios históricos de dichos activos hasta el 2018-12-31, diseñarán un portafolio en el que (hipotéticamente) habrían invertido durante todo el 2019.\n",
    "\n",
    "5. Usando los precios históricos de dichos activos hasta el 2019-12-31, diseñarán un portafolio en el que (hipotéticamente) habrían invertido durante todo el 2020.\n",
    "\n",
    "6. Usando los precios históricos de dichos activos hasta el 2020-12-31, diseñarán un portafolio en el que (hipotéticamente) habrían invertido durante todo el 2021."
   ]
  },
  {
   "cell_type": "markdown",
   "metadata": {},
   "source": [
    "## 3. Evaluación del rendimiento\n",
    "\n",
    "Usando los portafolios que encontraron en el punto anterior, deberán encontrar:\n",
    "\n",
    "1. El rendimiento del portafolio 1 durante el 2016.\n",
    "\n",
    "2. El rendimiento del portafolio 2 durante el 2017.\n",
    "\n",
    "3. El rendimiento del portafolio 3 durante el 2018.\n",
    "\n",
    "4. El rendimiento del portafolio 4 durante el 2019.\n",
    "\n",
    "5. El rendimiento del portafolio 5 durante el 2020.\n",
    "\n",
    "6. El rendimiento del portafolio 6 durante lo que va del 2021.\n",
    "\n",
    "6. El rendimiento total durante  el periodo de tenencia.\n",
    "\n",
    "7. El rendimiento promedio anual durante el periodo de tenencia.\n",
    "\n",
    "9. Si hubieran invertido 10.000 USD en estos portafolios a lo largo del tiempo y nunca hubieran retirado ni adicionado nada más, ¿Cuánto dinero tendrían invertido en este momento?"
   ]
  },
  {
   "cell_type": "markdown",
   "metadata": {},
   "source": [
    "## 4. Adicional\n",
    "\n",
    "Todo lo anterior es lo mínimo necesario del proyecto. Sin embargo, se considerarán ampliamente si ustedes miden el comportamiento de los portafolios con otras métricas que se les ocurran.\n",
    "\n",
    "Además, se considerará ampliamente también si tienen en cuenta los precios reales de los activos en el momento de la compra, y como modifica esto las ponderaciones que encontraron para sus portafolios, considerando que no pueden comprar fracciones de activos y/o ETFs."
   ]
  },
  {
   "cell_type": "markdown",
   "metadata": {},
   "source": [
    "## 5. Presentación\n",
    "\n",
    "Todo lo anterior lo deben realizar en un notebook de jupyter considerando que de ahí mismo realizarán la presentación del proyecto."
   ]
  },
  {
   "cell_type": "markdown",
   "metadata": {},
   "source": [
    "<script>\n",
    "  $(document).ready(function(){\n",
    "    $('div.prompt').hide();\n",
    "    $('div.back-to-top').hide();\n",
    "    $('nav#menubar').hide();\n",
    "    $('.breadcrumb').hide();\n",
    "    $('.hidden-print').hide();\n",
    "  });\n",
    "</script>\n",
    "\n",
    "<footer id=\"attribution\" style=\"float:right; color:#808080; background:#fff;\">\n",
    "Created with Jupyter by Esteban Jiménez Rodríguez.\n",
    "</footer>"
   ]
  }
 ],
 "metadata": {
  "kernelspec": {
   "display_name": "Python 3",
   "language": "python",
   "name": "python3"
  },
  "language_info": {
   "codemirror_mode": {
    "name": "ipython",
    "version": 3
   },
   "file_extension": ".py",
   "mimetype": "text/x-python",
   "name": "python",
   "nbconvert_exporter": "python",
   "pygments_lexer": "ipython3",
   "version": "3.7.6"
  }
 },
 "nbformat": 4,
 "nbformat_minor": 4
}
