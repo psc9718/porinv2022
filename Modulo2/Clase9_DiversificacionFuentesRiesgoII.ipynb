{
 "cells": [
  {
   "cell_type": "markdown",
   "metadata": {},
   "source": [
    "# Diversificación y fuentes de riesgo en un portafolio II - Una ilustración con mercados internacionales.\n",
    "\n",
    "<img style=\"float: right; margin: 0px 0px 15px 15px;\" src=\"https://upload.wikimedia.org/wikipedia/commons/5/5f/Map_International_Markets.jpg\" width=\"500px\" height=\"300px\" />\n",
    "\n",
    "> Entonces, la clase pasada vimos cómo afecta la correlación entre pares de activos en un portafolio. Dijimos que como un par de activos nunca tienen correlación perfecta, al combinarlos en un portafolio siempre conseguimos diversificación del riesgo.\n",
    "\n",
    "> Vimos también que no todo el riesgo se puede diversificar. Dos fuentes de riesgo:\n",
    "> - Sistemático: afecta de igual manera a todos los activos. No se puede diversificar.\n",
    "> - Idiosincrático: afecta a cada activo en particular por razones específicas. Se puede diversificar.\n",
    "\n",
    "En esta clase veremos un ejemplo de diversificación en un portafolio, usando datos de mercados de activos internacionales.\n",
    "\n",
    "En el camino, definiremos términos como *frontera de mínima varianza*, *portafolio de mínima varianza* y *portafolios eficientes*, los cuales son básicos para la construcción de la **teoría moderna de portafolios**.\n",
    "\n",
    "Estos portafolios los aprenderemos a obtener formalmente en el siguiente módulo. Por ahora nos bastará con agarrar intuición."
   ]
  },
  {
   "cell_type": "markdown",
   "metadata": {},
   "source": [
    "**Objetivo:**\n",
    "- Ver los beneficios de la diversificación ilustrativamente.\n",
    "- ¿Qué es la frontera de mínima varianza?\n",
    "- ¿Qué son el portafolio de varianza mínima y portafolios eficientes?\n",
    "\n",
    "*Referencia:*\n",
    "- Notas del curso \"Portfolio Selection and Risk Management\", Rice University, disponible en Coursera.\n",
    "___"
   ]
  },
  {
   "cell_type": "markdown",
   "metadata": {},
   "source": [
    "## 1. Ejemplo\n",
    "\n",
    "**Los datos:** tenemos el siguiente reporte de rendimientos esperados y volatilidad (anuales) para los mercados de acciones en los países integrantes del $G5$: EU, RU, Francia, Alemania y Japón."
   ]
  },
  {
   "cell_type": "code",
   "execution_count": null,
   "metadata": {},
   "outputs": [],
   "source": [
    "# Importamos pandas y numpy\n",
    "import pandas as pd\n",
    "import numpy as np"
   ]
  },
  {
   "cell_type": "code",
   "execution_count": null,
   "metadata": {},
   "outputs": [],
   "source": [
    "# Resumen en base anual de rendimientos esperados y volatilidades\n",
    "annual_ret_summ = pd.DataFrame(columns=['EU', 'RU', 'Francia', 'Alemania', 'Japon'], index=['Media', 'Volatilidad'])\n",
    "annual_ret_summ.loc['Media'] = np.array([0.1355, 0.1589, 0.1519, 0.1435, 0.1497])\n",
    "annual_ret_summ.loc['Volatilidad'] = np.array([0.1535, 0.2430, 0.2324, 0.2038, 0.2298])\n",
    "\n",
    "annual_ret_summ.round(4)"
   ]
  },
  {
   "cell_type": "markdown",
   "metadata": {},
   "source": [
    "¿Qué podemos notar?\n",
    "- En cuanto al rendimiento esperado: son similares. El mínimo es de 13.5% y el máximo es de 15.9%.\n",
    "- En cuanto al riesgo: hay mucha dispersión. Varía desde 15.3% hasta 24.3%."
   ]
  },
  {
   "cell_type": "markdown",
   "metadata": {},
   "source": [
    "Además, tenemos el siguiente reporte de la matriz de correlación:"
   ]
  },
  {
   "cell_type": "code",
   "execution_count": null,
   "metadata": {},
   "outputs": [],
   "source": [
    "# Matriz de correlación\n",
    "corr = pd.DataFrame(data= np.array([[1.0000, 0.5003, 0.4398, 0.3681, 0.2663],\n",
    "                                    [0.5003, 1.0000, 0.5420, 0.4265, 0.3581],\n",
    "                                    [0.4398, 0.5420, 1.0000, 0.6032, 0.3923],\n",
    "                                    [0.3681, 0.4265, 0.6032, 1.0000, 0.3663],\n",
    "                                    [0.2663, 0.3581, 0.3923, 0.3663, 1.0000]]),\n",
    "                    columns=annual_ret_summ.columns, index=annual_ret_summ.columns)\n",
    "corr.round(4)"
   ]
  },
  {
   "cell_type": "markdown",
   "metadata": {},
   "source": [
    "### ¿Cómo encontrar la matriz de covarianzas?"
   ]
  },
  {
   "cell_type": "code",
   "execution_count": null,
   "metadata": {
    "scrolled": true
   },
   "outputs": [],
   "source": []
  },
  {
   "cell_type": "code",
   "execution_count": null,
   "metadata": {},
   "outputs": [],
   "source": [
    "# Crear matriz diagonal con la info de las volatilidades individuales\n"
   ]
  },
  {
   "cell_type": "code",
   "execution_count": null,
   "metadata": {},
   "outputs": [],
   "source": [
    "# A partir de la matriz anterior y la matriz de correlación:\n"
   ]
  },
  {
   "cell_type": "markdown",
   "metadata": {},
   "source": [
    "¿Qué se puede observar acerca de la matriz de correlación?\n",
    "\n",
    "- Los índices con mayor correlación son: Francia y Alemania.\n",
    "- Los índices con menor correlación son: Japón y Estados Unidos."
   ]
  },
  {
   "cell_type": "markdown",
   "metadata": {},
   "source": [
    "Recordar: correlaciones bajas significan una gran oportunidad para diversificación."
   ]
  },
  {
   "cell_type": "markdown",
   "metadata": {},
   "source": [
    "### Nos enfocaremos entonces únicamente en dos mercados: EU y Japón\n",
    "\n",
    "- ¿Cómo construiríamos un portafolio que consiste de los mercados de acciones de EU y Japón?\n",
    "- ¿Cuáles serían las posibles combinaciones?"
   ]
  },
  {
   "cell_type": "markdown",
   "metadata": {},
   "source": [
    "#### 1. Supongamos que $w$ es la participación del mercado de EU en nuestro portafolio.\n",
    "- ¿Cuál es la participación del mercado de Japón entonces?: $1-w$\n",
    "\n",
    "- Luego, nuestras fórmulas de rendimiento esperado y varianza de portafolios son:\n",
    "\n",
    "$$E[r_p]=wE[r_{EU}]+(1-w)E[r_J]$$\n",
    "\n",
    "$$\\sigma_p^2=w^2\\sigma_{EU}^2+(1-w)^2\\sigma_J^2+2w(1-w)\\sigma_{EU,J}$$"
   ]
  },
  {
   "cell_type": "markdown",
   "metadata": {},
   "source": [
    "#### 2. Con lo anterior...\n",
    "- podemos variar $w$ con pasos pequeños entre $0$ y $1$, y\n",
    "- calcular el rendimiento esperado y volatilidad para cada valor de $w$."
   ]
  },
  {
   "cell_type": "code",
   "execution_count": null,
   "metadata": {},
   "outputs": [],
   "source": []
  },
  {
   "cell_type": "code",
   "execution_count": null,
   "metadata": {},
   "outputs": [],
   "source": [
    "# Vector de w variando entre 0 y 1 con N pasos\n",
    "\n",
    "# Rendimientos esperados individuales\n",
    "# Activo1: EU, Activo2: Japon\n",
    "# Rendimientos esperados individuales\n",
    "\n",
    "# Volatilidades individuales\n",
    "\n",
    "# Correlacion\n",
    "\n",
    "# Covarianza\n"
   ]
  },
  {
   "cell_type": "markdown",
   "metadata": {},
   "source": [
    "$$\n",
    "\\rho_{ij} = \\frac{\\sigma_{ij}}{\\sigma_i \\sigma_j} \\Rightarrow \\sigma_{ij} = \\sigma_i \\sigma_j \\rho_{ij}\n",
    "$$"
   ]
  },
  {
   "cell_type": "code",
   "execution_count": null,
   "metadata": {
    "scrolled": true
   },
   "outputs": [],
   "source": [
    "# Crear un DataFrame cuyas columnas sean rendimiento esperado\n",
    "# y volatilidad del portafolio para cada una de las w\n",
    "# generadas\n"
   ]
  },
  {
   "cell_type": "code",
   "execution_count": null,
   "metadata": {},
   "outputs": [],
   "source": []
  },
  {
   "cell_type": "code",
   "execution_count": null,
   "metadata": {},
   "outputs": [],
   "source": []
  },
  {
   "cell_type": "markdown",
   "metadata": {},
   "source": [
    "#### 3. Finalmente, \n",
    "- cada una de las combinaciones las podemos graficar en el espacio de rendimiento esperado (eje $y$) contra volatilidad (eje $x$)."
   ]
  },
  {
   "cell_type": "code",
   "execution_count": null,
   "metadata": {},
   "outputs": [],
   "source": [
    "# Importar matplotlib.pyplot\n"
   ]
  },
  {
   "cell_type": "code",
   "execution_count": null,
   "metadata": {},
   "outputs": [],
   "source": [
    "# \\rho=1\n",
    "\n",
    "# \\rho=-1\n"
   ]
  },
  {
   "cell_type": "code",
   "execution_count": null,
   "metadata": {},
   "outputs": [],
   "source": [
    "# Graficar el lugar geométrico de los portafolios en el\n",
    "# espacio rendimiento esperado vs. volatilidad.\n",
    "# Especificar también los puntos relativos a los casos\n",
    "# extremos.\n",
    "\n",
    "# Caso real\n",
    "\n",
    "\"\"\"\n",
    "# Si la correlación fuera +1\n",
    "\n",
    "# Si la correlación fuera -1\n",
    "\n",
    "\"\"\"\n"
   ]
  },
  {
   "cell_type": "markdown",
   "metadata": {},
   "source": [
    "#### De la gráfica,\n",
    "1. Ver casos extremos.\n",
    "2. ¿Conviene invertir 100% en el mercado de EU? ¿Porqué?\n",
    "3. ¿Porqué ocurre esto?\n",
    "4. Definición: frontera de mínima varianza. Caso particular: dos activos.\n",
    "5. Definición: portafolio de varianza mínima.\n",
    "6. Definición: portafolios eficientes.\n",
    "\n",
    "#### 1. Definición (frontera de mínima varianza): es el lugar geométrico de los portafolios en el espacio de rendimiento esperado contra volatilidad, que para cada nivel de rendimiento esperado provee la menor varianza (volatilidad). Para dos activos, la frontera de mínima varianza son, simplemente, todos los posibles portafolios que se pueden formar con esos dos activos.\n",
    "\n",
    "\n",
    "#### 2. Definición (portafolio de mínima varianza): es el portafolio que posee la menor varianza. No podemos encontrar ningún portafolio más a la izquierda de éste, en el espacio de rendimiento esperado contra volatilidad.\n",
    "\n",
    "\n",
    "#### 3. Definición (portafolios eficientes): son los portafolios que están en la parte superior de la frontera de mínima varianza, partiendo desde el portafolio de mínima varianza.\n",
    "\n",
    "___\n"
   ]
  },
  {
   "cell_type": "markdown",
   "metadata": {},
   "source": [
    "## 2. ¿Cómo hallar el portafolio de varianza mínima?\n",
    "\n",
    "Bien, esta será nuestra primera selección de portafolio. Si bien se hace de manera básica e intuitiva, nos servirá como introducción al siguiente módulo. \n",
    "\n",
    "**Comentario:** estrictamente, el portafolio que está más a la izquierda en la curva de arriba es el de *volatilidad mínima*. Sin embargo, como tanto la volatilidad es una medida siempre positiva, minimizar la volatilidad equivale a minimizar la varianza. Por lo anterior, llamamos a dicho portafolio, el portafolio de *varianza mínima*."
   ]
  },
  {
   "cell_type": "markdown",
   "metadata": {},
   "source": [
    "De modo que la búsqueda del portafolio de varianza mínima corresponde a la solución del siguiente problema de optimización:\n",
    "\n",
    "- Para un portafolio con $n$ activos ($\\boldsymbol{w}=[w_1,\\dots,w_n]^T\\in\\mathbb{R}^n$):\n",
    "\\begin{align*}\n",
    "&\\min_{\\boldsymbol{w}} & \\sigma_p^2=\\boldsymbol{w}^T\\Sigma\\boldsymbol{w}\\\\\n",
    "&\\text{s.t.} \\qquad & \\boldsymbol{w}\\geq0,\\\\\n",
    "& & w_1+\\dots+w_n=1\n",
    "\\end{align*}\n",
    "donde $\\Sigma$ es la matriz de varianza-covarianza de los rendimientos de los $n$ activos."
   ]
  },
  {
   "cell_type": "markdown",
   "metadata": {},
   "source": [
    "- En particular, para un portafolio con dos activos el problema anterior se reduce a:\n",
    "\\begin{align*}\n",
    "&\\min_{w_1,w_2}\\sigma_p^2=w_1^2\\sigma_1^2+w_2^2\\sigma_2^2+2w_1w_2\\sigma_{12}\\\\\n",
    "&\\text{s.t.} \\qquad w_1,w_2\\geq0, \\qquad w_1 + w_2 = 1\n",
    "\\end{align*}\n",
    "donde $\\sigma_1,\\sigma_2$ son las volatilidades de los activos individuales y $\\sigma_{12}$ es la covarianza entre los activos. Equivalentemente, haciendo $w_1=w$ y $w_2=1-w$, el problema anterior se puede reescribir de la siguiente manera:\n",
    "\\begin{align*}\n",
    "&\\min_{w}\\sigma_p^2=w^2\\sigma_1^2+(1-w)^2\\sigma_2^2+2w(1-w)\\rho_{12}\\sigma_1\\sigma_2\\\\\n",
    "&\\text{s.t.} \\qquad 0\\leq w\\leq1,\n",
    "\\end{align*}\n",
    "\n",
    "La solución al anterior problema de optimización es\n",
    "$$w^{\\ast}=\\frac{\\sigma_2^2 - \\sigma_{12}}{\\sigma_1^2+\\sigma_2^2-2\\sigma_{12}}$$"
   ]
  },
  {
   "cell_type": "markdown",
   "metadata": {},
   "source": [
    "1. Los anteriores son problemas de **programación cuadrática** (función convexa sobre dominio convexo: mínimo absoluto asegurado). \n",
    "2. Existen diversos algoritmos para problemas de programación cuadrática. Por ejemplo, en la librería cvxopt. Más adelante la instalaremos y la usaremos.\n",
    "3. En scipy.optimize no hay un algoritmo dedicado a la solución de este tipo de problemas de optimización. Sin embargo, la función mínimize nos permite resolver problemas de optimización en general (es un poco limitada, pero nos sirve por ahora)."
   ]
  },
  {
   "cell_type": "markdown",
   "metadata": {},
   "source": [
    "### 2.1. Antes de resolver el problema con la función minimize: resolverlo a mano en el tablero."
   ]
  },
  {
   "cell_type": "code",
   "execution_count": null,
   "metadata": {},
   "outputs": [],
   "source": [
    "# Calcular w_minvar y mostrar...\n"
   ]
  },
  {
   "cell_type": "markdown",
   "metadata": {},
   "source": [
    "**Conclusiones:**\n",
    "- Para obtener el portafolio de mínima varianza, deberíamos invertir aproximadamente el 75.40% en el índice de EU, y el 24.60% restante en el índice de Japón."
   ]
  },
  {
   "cell_type": "markdown",
   "metadata": {},
   "source": [
    "### 2.2. Ahora sí, con la función scipy.optimize.minimize"
   ]
  },
  {
   "cell_type": "code",
   "execution_count": null,
   "metadata": {},
   "outputs": [],
   "source": [
    "# Importar la función minimize\n"
   ]
  },
  {
   "cell_type": "code",
   "execution_count": null,
   "metadata": {
    "scrolled": true
   },
   "outputs": [],
   "source": [
    "# Función minimize\n"
   ]
  },
  {
   "cell_type": "code",
   "execution_count": null,
   "metadata": {},
   "outputs": [],
   "source": [
    "# Función objetivo\n"
   ]
  },
  {
   "cell_type": "code",
   "execution_count": null,
   "metadata": {},
   "outputs": [],
   "source": [
    "# Dato inicial\n",
    "\n",
    "# Cota de w\n"
   ]
  },
  {
   "cell_type": "code",
   "execution_count": null,
   "metadata": {},
   "outputs": [],
   "source": [
    "# Solución\n"
   ]
  },
  {
   "cell_type": "code",
   "execution_count": null,
   "metadata": {},
   "outputs": [],
   "source": [
    "# Peso del portafolio de minima varianza\n"
   ]
  },
  {
   "cell_type": "code",
   "execution_count": null,
   "metadata": {},
   "outputs": [],
   "source": []
  },
  {
   "cell_type": "code",
   "execution_count": null,
   "metadata": {},
   "outputs": [],
   "source": []
  },
  {
   "cell_type": "code",
   "execution_count": null,
   "metadata": {},
   "outputs": [],
   "source": []
  },
  {
   "cell_type": "code",
   "execution_count": null,
   "metadata": {},
   "outputs": [],
   "source": [
    "# Graficar el portafolio de varianza mínima\n",
    "# sobre el mismo gráfico realizado anteriormente\n",
    "\n",
    "# Caso real\n"
   ]
  },
  {
   "cell_type": "markdown",
   "metadata": {},
   "source": [
    "___"
   ]
  },
  {
   "cell_type": "markdown",
   "metadata": {},
   "source": [
    "## 3. Ahora, para tres activos, obtengamos la frontera de mínima varianza"
   ]
  },
  {
   "cell_type": "code",
   "execution_count": null,
   "metadata": {},
   "outputs": [],
   "source": [
    "import scipy.optimize as opt"
   ]
  },
  {
   "cell_type": "code",
   "execution_count": null,
   "metadata": {},
   "outputs": [],
   "source": [
    "## Construcción de parámetros\n",
    "## Activo 1: EU, Activo 2: Japon, Activo 3: RU\n",
    "# 1. Sigma: matriz de varianza-covarianza\n",
    "s1 = annual_ret_summ['EU']['Volatilidad']\n",
    "s2 = annual_ret_summ['Japon']['Volatilidad']\n",
    "s3 = annual_ret_summ['RU']['Volatilidad']\n",
    "s12 = corr['EU']['Japon'] * s1 * s2\n",
    "s13 = corr['EU']['RU'] * s1 * s3\n",
    "s23 = corr['Japon']['RU'] * s2 * s3\n",
    "Sigma = np.array([[s1**2, s12, s13],\n",
    "                  [s12, s2**2, s23],\n",
    "                  [s13, s23, s3**2]])\n",
    "# 2. Eind: rendimientos esperados activos individuales\n",
    "E1 = annual_ret_summ['EU']['Media']\n",
    "E2 = annual_ret_summ['Japon']['Media']\n",
    "E3 = annual_ret_summ['RU']['Media']\n",
    "Eind = np.array([E1, E2, E3])\n",
    "# 3. Ereq: rendimientos requeridos para el portafolio\n",
    "# Número de portafolios\n",
    "N = 100\n",
    "Ereq = np.linspace(Eind.min(), Eind.max(), N)"
   ]
  },
  {
   "cell_type": "code",
   "execution_count": null,
   "metadata": {},
   "outputs": [],
   "source": [
    "def varianza(w, Sigma):\n",
    "    return w.T.dot(Sigma).dot(w)\n",
    "def rendimiento_req(w, Eind, mu_req):\n",
    "    return Eind.T.dot(w) - mu_req"
   ]
  },
  {
   "cell_type": "code",
   "execution_count": null,
   "metadata": {},
   "outputs": [],
   "source": [
    "# Dato inicial\n",
    "w0 = np.ones(3,) / 3\n",
    "# Cotas de las variables\n",
    "bnds = ((0, None),) * 3"
   ]
  },
  {
   "cell_type": "code",
   "execution_count": null,
   "metadata": {},
   "outputs": [],
   "source": [
    "# DataFrame de portafolios de la frontera\n",
    "portfolios3 = pd.DataFrame(index=range(N), columns=['w1', 'w2', 'w3', 'Ret', 'Vol'])"
   ]
  },
  {
   "cell_type": "code",
   "execution_count": null,
   "metadata": {},
   "outputs": [],
   "source": [
    "# Construcción de los N portafolios de la frontera\n",
    "for i in range(N):\n",
    "    # Restricciones\n",
    "    cons = ({'type': 'eq', 'fun': rendimiento_req, 'args': (Eind, Ereq[i])},\n",
    "            {'type': 'eq', 'fun': lambda w: w.sum() - 1})\n",
    "    # Portafolio de mínima varianza para nivel de rendimiento esperado Ereq[i]\n",
    "    min_var = opt.minimize(fun=varianza,\n",
    "                           x0=w0,\n",
    "                           args=(Sigma,),\n",
    "                           bounds=bnds,\n",
    "                           constraints=cons)\n",
    "    # Pesos, rendimientos y volatilidades de los portafolio\n",
    "    portfolios3.loc[i, ['w1','w2','w3']] = min_var.x\n",
    "    portfolios3['Ret'][i] = Eind.dot(min_var.x)\n",
    "    portfolios3['Vol'][i] = np.sqrt(varianza(min_var.x, Sigma))"
   ]
  },
  {
   "cell_type": "code",
   "execution_count": null,
   "metadata": {
    "scrolled": false
   },
   "outputs": [],
   "source": [
    "# Portafolios de la frontera\n",
    "portfolios3"
   ]
  },
  {
   "cell_type": "code",
   "execution_count": null,
   "metadata": {},
   "outputs": [],
   "source": [
    "# Portafolio de mínima varianza\n",
    "cons = ({'type': 'eq', 'fun': lambda w: np.sum(w)-1},)\n",
    "min_var3 = opt.minimize(varianza, \n",
    "                        w0,\n",
    "                        args=(Sigma,),\n",
    "                        bounds=bnds,\n",
    "                        constraints=cons)\n",
    "min_var3"
   ]
  },
  {
   "cell_type": "code",
   "execution_count": null,
   "metadata": {},
   "outputs": [],
   "source": [
    "w_minvar3 = min_var3.x\n",
    "E_minvar3 = Eind.dot(w_minvar3)\n",
    "s_minvar3 = np.sqrt(varianza(w_minvar3, Sigma))"
   ]
  },
  {
   "cell_type": "code",
   "execution_count": null,
   "metadata": {},
   "outputs": [],
   "source": [
    "# Graficamos junto a los portafolios de solo EU y Japón\n",
    "plt.figure(figsize=(12,8))\n",
    "plt.plot(portafolios2['Volatilidad'], portafolios2['Media'], label='Portafolios 2 act')\n",
    "plt.plot(portfolios3.Vol, portfolios3.Ret, 'k-', lw=2, label='Portafolios 3 act')\n",
    "plt.plot(s1, E1, 'b*', ms=10, label='EU')\n",
    "plt.plot(s2, E2, 'r*', ms=10, label='Japon')\n",
    "plt.plot(s3, E3, 'c*', ms=10, label='RU')\n",
    "plt.plot(s_minvar, er_minvar, 'oy', ms=10, label='Port. Min. Var. 2')\n",
    "plt.plot(s_minvar3, E_minvar3, 'om', ms=10, label='Port. Min. Var. 3')\n",
    "plt.grid()\n",
    "plt.legend(loc='best')\n",
    "plt.xlabel('Volatilidad ($\\sigma$)')\n",
    "plt.ylabel('Rendimiento esperado ($E[r]$)')\n",
    "plt.axis([0.14, 0.16, 0.135, 0.14])"
   ]
  },
  {
   "cell_type": "code",
   "execution_count": null,
   "metadata": {},
   "outputs": [],
   "source": [
    "er_minvar, s_minvar"
   ]
  },
  {
   "cell_type": "code",
   "execution_count": null,
   "metadata": {},
   "outputs": [],
   "source": [
    "E_minvar3, s_minvar3"
   ]
  },
  {
   "cell_type": "markdown",
   "metadata": {},
   "source": [
    "**Conclusión.** Mayor diversificación.\n",
    "___"
   ]
  },
  {
   "cell_type": "markdown",
   "metadata": {},
   "source": [
    "## 4. Comentarios acerca de la Teoría Moderna de Portafolios.\n",
    "\n",
    "- Todo lo anterior es un abrebocas de lo que llamamos análisis de media-varianza, y que es la base de la teoría moderna de portafolios.\n",
    "- El análisis de media-varianza transformó el mundo de las inversiones cuando fué presentada por primera vez.\n",
    "- Claro, tiene ciertas limitaciones, pero se mantiene como una de las ideas principales en la selección óptima de portafolios."
   ]
  },
  {
   "cell_type": "markdown",
   "metadata": {},
   "source": [
    "### Historia.\n",
    "\n",
    "1. Fue presentada por primera vez por Harry Markowitz en 1950. Acá su [artículo](https://www.google.com/url?sa=t&rct=j&q=&esrc=s&source=web&cd=1&ved=2ahUKEwjd0cOTx8XdAhUVo4MKHcLoBhcQFjAAegQICBAC&url=https%3A%2F%2Fwww.math.ust.hk%2F~maykwok%2Fcourses%2Fma362%2F07F%2Fmarkowitz_JF.pdf&usg=AOvVaw3d29hQoNJVqXvC8zPuixYG).\n",
    "2. Era un joven estudiante de Doctorado en la Universidad de Chicago.\n",
    "3. Publicó su tesis doctoral en selección de portafolios en \"Journal of Finance\" en 1952.\n",
    "4. Su contribución transformó por completo la forma en la que entendemos el riesgo.\n",
    "5. Básicamente obtuvo una teoría que analiza como los inversionistas deberían escoger de manera óptima sus portafolios, en otras palabras, cómo distribuir la riqueza de manera óptima en diferentes activos.\n",
    "6. Casi 40 años después, Markowitz ganó el Premio Nobel en economía por esta idea."
   ]
  },
  {
   "cell_type": "markdown",
   "metadata": {},
   "source": [
    "- La suposición detrás del análisis media-varianza es que los rendimientos de los activos pueden ser caracterizados por completo por sus rendimientos esperados y volatilidad.\n",
    "- Por eso es que graficamos activos y sus combinaciones (portafolios) en el espacio de rendimiento esperado contra volatilidad.\n",
    "- El análisis media-varianza es básicamente acerca de la diversificación: la interacción de activos permite que las ganancias de unos compensen las pérdidas de otros.\n",
    "- La diversificación reduce el riesgo total mientras combinemos activos imperfectamente correlacionados. "
   ]
  },
  {
   "cell_type": "markdown",
   "metadata": {},
   "source": [
    "- En el siguiente módulo revisaremos cómo elegir portafolios óptimos como si los inversionistas sólo se preocuparan por medias y varianzas.\n",
    "- ¿Qué pasa si un inversionista también se preocupa por otros momentos (asimetría, curtosis...)?\n",
    "- La belleza del análisis media-varianza es que cuando combinamos activos correlacionados imperfectamente, las varianzas siempre decrecen (no sabemos que pasa con otras medidas de riesgo).\n",
    "- Si a un inversionista le preocupan otras medidas de riesgo, el análisis media-varianza no es el camino."
   ]
  },
  {
   "cell_type": "markdown",
   "metadata": {},
   "source": [
    "- Además, si eres una persona que le gusta el riesgo: quieres encontrar la próxima compañía top que apenas va arrancando (como Google en los 2000) e invertir todo en ella para generar ganancias extraordinarias; entonces la diversificación no es tampoco el camino.\n",
    "- La diversificación, por definición, elimina el riesgo idiosincrático (de cada compañía), y por tanto elimina estos rendimientos altísimos que brindaría un portafolio altamente concentrado."
   ]
  },
  {
   "cell_type": "markdown",
   "metadata": {},
   "source": [
    "# Anuncios parroquiales\n",
    "\n",
    "## 1. Revisar archivo de la Tarea 5.\n",
    "## 2. La próxima clase es de repaso, sin embargo, el repaso no lo hago yo, lo hacen ustedes. Estaremos resolviendo todo tipo de dudas que ustedes planteen acerca de lo visto hasta ahora. Si no hay dudas, dedicarán el tiempo de la clase a tareas del curso.\n",
    "## 3. Fin Módulo 2: revisar Clase0 para ver objetivos."
   ]
  },
  {
   "cell_type": "markdown",
   "metadata": {},
   "source": [
    "<script>\n",
    "  $(document).ready(function(){\n",
    "    $('div.prompt').hide();\n",
    "    $('div.back-to-top').hide();\n",
    "    $('nav#menubar').hide();\n",
    "    $('.breadcrumb').hide();\n",
    "    $('.hidden-print').hide();\n",
    "  });\n",
    "</script>\n",
    "\n",
    "<footer id=\"attribution\" style=\"float:right; color:#808080; background:#fff;\">\n",
    "Created with Jupyter by Esteban Jiménez Rodríguez.\n",
    "</footer>"
   ]
  }
 ],
 "metadata": {
  "kernelspec": {
   "display_name": "Python 3",
   "language": "python",
   "name": "python3"
  },
  "language_info": {
   "codemirror_mode": {
    "name": "ipython",
    "version": 3
   },
   "file_extension": ".py",
   "mimetype": "text/x-python",
   "name": "python",
   "nbconvert_exporter": "python",
   "pygments_lexer": "ipython3",
   "version": "3.7.6"
  }
 },
 "nbformat": 4,
 "nbformat_minor": 2
}
